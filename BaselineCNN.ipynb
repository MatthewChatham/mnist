{
 "cells": [
  {
   "cell_type": "markdown",
   "metadata": {},
   "source": [
    "# Benchmark convolutional model #11\n",
    "\n",
    "Let's make a benchmark convolutional model and try to beat the previous 92.44% validation accuracy.\n",
    "\n"
   ]
  },
  {
   "cell_type": "markdown",
   "metadata": {},
   "source": [
    "# Get the MNIST data"
   ]
  },
  {
   "cell_type": "code",
   "execution_count": 51,
   "metadata": {},
   "outputs": [
    {
     "name": "stdout",
     "output_type": "stream",
     "text": [
      "Extracting MNIST_data/train-images-idx3-ubyte.gz\n",
      "Extracting MNIST_data/train-labels-idx1-ubyte.gz\n",
      "Extracting MNIST_data/t10k-images-idx3-ubyte.gz\n",
      "Extracting MNIST_data/t10k-labels-idx1-ubyte.gz\n"
     ]
    }
   ],
   "source": [
    "from common import get_mnist\n",
    "\n",
    "mnist = get_mnist()\n",
    "\n",
    "xtrain = mnist['x']['train']\n",
    "xval = mnist['x']['val']\n",
    "\n",
    "ytrain = mnist['y']['train']\n",
    "yval = mnist['y']['val']"
   ]
  },
  {
   "cell_type": "markdown",
   "metadata": {},
   "source": [
    "# Preprocessing\n",
    "\n",
    "Let's:\n",
    "* Reshape the input values to by (28,28) instead of (784,).\n",
    "* Standardize the input values"
   ]
  },
  {
   "cell_type": "code",
   "execution_count": 55,
   "metadata": {},
   "outputs": [],
   "source": [
    "xtrain = xtrain.reshape((55000,28,28,1))\n",
    "xval = xval.reshape((5000,28,28,1))\n",
    "\n",
    "xtrain = (xtrain - xtrain.mean()) / xtrain.std()\n",
    "xval = (xval - xval.mean()) / xval.std()"
   ]
  },
  {
   "cell_type": "markdown",
   "metadata": {},
   "source": [
    "# Model Architecture\n",
    "\n",
    "[This](http://cs231n.github.io/convolutional-networks/) website suggests the following beginning architecture:\n",
    "\n",
    ">* INPUT [32x32x3] will hold the raw pixel values of **the image**, in this case an image of width 32, height 32, and with three color channels R,G,B.\n",
    "* CONV layer will compute the **output of neurons that are connected to local regions in the input**, each computing a dot product between their weights and a small region they are connected to in the input volume. This may result in volume such as [32x32x12] if we decided to use 12 **filters**.\n",
    "* RELU layer will apply an **elementwise activation function, such as the max(0,x)** thresholding at zero. This leaves the size of the volume unchanged ([32x32x12]).\n",
    "* POOL layer will perform a **downsampling** operation along the spatial dimensions (width, height), resulting in volume such as [16x16x12].\n",
    "* FC (i.e. fully-connected) layer will **compute the class scores**, resulting in volume of size [1x1x10], where each of the 10 numbers correspond to a class score, such as among the 10 categories of CIFAR-10. As with ordinary Neural Networks and as the name implies, each neuron in this layer will be connected to all the numbers in the previous volume."
   ]
  },
  {
   "cell_type": "code",
   "execution_count": 56,
   "metadata": {},
   "outputs": [],
   "source": [
    "import tensorflow as tf\n",
    "from keras.backend.tensorflow_backend import set_session\n",
    "\n",
    "config = tf.ConfigProto()\n",
    "# config = tf.ConfigProto(device_count = {'GPU': 0})\n",
    "sess = tf.Session(config=config)\n",
    "# config.gpu_options.per_process_gpu_memory_fraction = 0.7\n",
    "config.gpu_options.allow_growth = True\n",
    "set_session(tf.Session(config=config))"
   ]
  },
  {
   "cell_type": "code",
   "execution_count": 114,
   "metadata": {},
   "outputs": [
    {
     "name": "stdout",
     "output_type": "stream",
     "text": [
      "Epoch 1/10\n",
      "55000/55000 [==============================] - 4s 79us/step - loss: 0.3959 - acc: 0.8887\n",
      "Epoch 2/10\n",
      "55000/55000 [==============================] - 3s 47us/step - loss: 0.1439 - acc: 0.9581\n",
      "Epoch 3/10\n",
      "55000/55000 [==============================] - 3s 47us/step - loss: 0.1003 - acc: 0.9711\n",
      "Epoch 4/10\n",
      "55000/55000 [==============================] - 3s 47us/step - loss: 0.0821 - acc: 0.9761\n",
      "Epoch 5/10\n",
      "55000/55000 [==============================] - 3s 48us/step - loss: 0.0692 - acc: 0.9798\n",
      "Epoch 6/10\n",
      "55000/55000 [==============================] - 3s 47us/step - loss: 0.0615 - acc: 0.9819\n",
      "Epoch 7/10\n",
      "55000/55000 [==============================] - 3s 48us/step - loss: 0.0560 - acc: 0.9840\n",
      "Epoch 8/10\n",
      "55000/55000 [==============================] - 3s 47us/step - loss: 0.0505 - acc: 0.9848\n",
      "Epoch 9/10\n",
      "55000/55000 [==============================] - 3s 47us/step - loss: 0.0473 - acc: 0.9857\n",
      "Epoch 10/10\n",
      "55000/55000 [==============================] - 3s 47us/step - loss: 0.0443 - acc: 0.9871\n",
      "5000/5000 [==============================] - 1s 233us/step\n"
     ]
    },
    {
     "data": {
      "text/plain": [
       "[0.06306845534788445, 0.9832]"
      ]
     },
     "execution_count": 114,
     "metadata": {},
     "output_type": "execute_result"
    }
   ],
   "source": [
    "from keras.models import Sequential\n",
    "from keras.layers import Conv2D, MaxPool2D, Dense, Flatten, MaxPooling2D\n",
    "from keras.regularizers import l2\n",
    "\n",
    "convolutional = Sequential()\n",
    "\n",
    "convolutional.add(\n",
    "    Conv2D(\n",
    "        input_shape=(28,28,1),\n",
    "        filters=15,\n",
    "        kernel_size=(3,3),\n",
    "        strides=(1,1),\n",
    "        padding='same',\n",
    "        activation='relu',\n",
    "        use_bias=True,\n",
    "        # TODO: Regularizers\n",
    "    )\n",
    ")\n",
    "\n",
    "convolutional.add(MaxPooling2D())\n",
    "\n",
    "convolutional.add(Flatten())\n",
    "\n",
    "convolutional.add(\n",
    "    Dense(10,\n",
    "          activation='softmax',\n",
    "          input_shape=(28,28),\n",
    "          kernel_regularizer=l2(0.00000001),\n",
    "#           activity_regularizer=l2(0.0000000001)\n",
    "         )\n",
    ")\n",
    "\n",
    "convolutional.compile(\n",
    "    optimizer='rmsprop', # RMSprop | SGD | Adagrad | Adadelta | Adam | Adamax | Nadam\n",
    "    loss='categorical_crossentropy',\n",
    "    metrics=['accuracy']\n",
    ")\n",
    "\n",
    "convolutional.fit(xtrain, ytrain, epochs=10, batch_size=250)\n",
    "\n",
    "convolutional.evaluate(xval, yval)"
   ]
  },
  {
   "cell_type": "code",
   "execution_count": 115,
   "metadata": {},
   "outputs": [
    {
     "data": {
      "image/png": "[encoded data removed]",
      "text/plain": [
       "<Figure size 432x288 with 1 Axes>"
      ]
     },
     "metadata": {},
     "output_type": "display_data"
    }
   ],
   "source": [
    "import matplotlib.pyplot as plt\n",
    "%matplotlib inline\n",
    "\n",
    "n=-10\n",
    "\n",
    "ax = plt.imshow(xval[n].reshape((28,28)), cmap='binary')\n",
    "true = yval[n].argmax()\n",
    "predicted = convolutional.predict(xval[n].reshape((1,28,28,1))).argmax()\n",
    "ax.axes.set_title('True: {} \\nPredicted: {}'.format(true,predicted))\n",
    "\n",
    "plt.tight_layout()"
   ]
  },
  {
   "cell_type": "code",
   "execution_count": 116,
   "metadata": {},
   "outputs": [
    {
     "data": {
      "image/png": "[encoded data removed]",
      "text/plain": [
       "<Figure size 432x288 with 2 Axes>"
      ]
     },
     "metadata": {},
     "output_type": "display_data"
    }
   ],
   "source": [
    "from sklearn.metrics import confusion_matrix\n",
    "import pandas as pd\n",
    "import seaborn as sns\n",
    "\n",
    "\n",
    "ytrue = yval.argmax(axis=1)\n",
    "ypred = convolutional.predict(xval).argmax(axis=1)\n",
    "\n",
    "df = pd.DataFrame(confusion_matrix(y_true=ytrue, y_pred=ypred))\n",
    "df = df[df < 400]\n",
    "with sns.axes_style(\"white\"):\n",
    "    ax = sns.heatmap(df, square=True)\n",
    "    ax.set(title='Confusion Matrix', xlabel='Predicted', ylabel='Actual')"
   ]
  },
  {
   "cell_type": "markdown",
   "metadata": {},
   "source": [
    "~~Our model tends to confuse 9's and 7's, and sometimes a 2 looks like an 8, or a 5 will look like a 3.~~\n",
    "\n",
    "Actually, these confusion matrices seem to be rather unstable. I ran a slightly tuned model and they changed significantly, although I do notice that 7's and 9's are still confused for each other. Some are common, but for example this model doesn't confuse 2's for 8's."
   ]
  },
  {
   "cell_type": "code",
   "execution_count": 119,
   "metadata": {},
   "outputs": [
    {
     "data": {
      "text/plain": [
       "(84, 28, 28, 1)"
      ]
     },
     "execution_count": 119,
     "metadata": {},
     "output_type": "execute_result"
    }
   ],
   "source": [
    "xval[ytrue != ypred].shape"
   ]
  },
  {
   "cell_type": "code",
   "execution_count": 131,
   "metadata": {},
   "outputs": [
    {
     "data": {
      "image/png": "[encoded data removed]",
      "text/plain": [
       "<Figure size 432x288 with 1 Axes>"
      ]
     },
     "metadata": {},
     "output_type": "display_data"
    }
   ],
   "source": [
    "n = 10\n",
    "ax = plt.imshow(xval[ytrue != ypred].reshape((84,28,28))[n])\n",
    "true = ytrue[ytrue != ypred][n]\n",
    "pred = ypred[ytrue != ypred][n]\n",
    "ax.axes.set_title('True: {} \\nPredicted: {}'.format(true, pred))\n",
    "\n",
    "plt.tight_layout()"
   ]
  },
  {
   "cell_type": "code",
   "execution_count": 169,
   "metadata": {},
   "outputs": [
    {
     "data": {
      "text/plain": [
       "<matplotlib.image.AxesImage at 0x25093f22da0>"
      ]
     },
     "execution_count": 169,
     "metadata": {},
     "output_type": "execute_result"
    },
    {
     "data": {
      "image/png": "[encoded data removed]",
      "text/plain": [
       "<Figure size 432x288 with 1 Axes>"
      ]
     },
     "metadata": {},
     "output_type": "display_data"
    }
   ],
   "source": [
    "import numpy as np\n",
    "plt.imshow(xval[convolutional.predict(xval).max(axis=1).argsort()].reshape((5000,28,28))[10])"
   ]
  },
  {
   "cell_type": "code",
   "execution_count": null,
   "metadata": {},
   "outputs": [],
   "source": []
  }
 ],
 "metadata": {
  "kernelspec": {
   "display_name": "Python 3",
   "language": "python",
   "name": "python3"
  },
  "language_info": {
   "codemirror_mode": {
    "name": "ipython",
    "version": 3
   },
   "file_extension": ".py",
   "mimetype": "text/x-python",
   "name": "python",
   "nbconvert_exporter": "python",
   "pygments_lexer": "ipython3",
   "version": "3.6.4"
  }
 },
 "nbformat": 4,
 "nbformat_minor": 2
}
