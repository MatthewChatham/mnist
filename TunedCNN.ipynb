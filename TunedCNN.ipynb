{
 "cells": [
  {
   "cell_type": "markdown",
   "metadata": {},
   "source": [
    "# Get the MNIST data"
   ]
  },
  {
   "cell_type": "code",
   "execution_count": 1,
   "metadata": {},
   "outputs": [
    {
     "name": "stdout",
     "output_type": "stream",
     "text": [
      "Extracting MNIST_data/train-images-idx3-ubyte.gz\n",
      "Extracting MNIST_data/train-labels-idx1-ubyte.gz\n",
      "Extracting MNIST_data/t10k-images-idx3-ubyte.gz\n",
      "Extracting MNIST_data/t10k-labels-idx1-ubyte.gz\n"
     ]
    }
   ],
   "source": [
    "from common import get_mnist\n",
    "\n",
    "mnist = get_mnist()\n",
    "\n",
    "xtrain = mnist['x']['train']\n",
    "xtest = mnist['x']['test']\n",
    "xval = mnist['x']['val']\n",
    "\n",
    "ytrain = mnist['y']['train']\n",
    "ytest = mnist['y']['test']\n",
    "yval = mnist['y']['val']"
   ]
  },
  {
   "cell_type": "markdown",
   "metadata": {},
   "source": [
    "# Preprocessing\n",
    "\n",
    "Let's:\n",
    "* Reshape the input values to by (28,28) instead of (784,).\n",
    "* Standardize the input values"
   ]
  },
  {
   "cell_type": "code",
   "execution_count": 2,
   "metadata": {},
   "outputs": [],
   "source": [
    "xtrain = xtrain.reshape((55000,28,28,1))\n",
    "xtest = xtest.reshape((xtest.shape[0], 28, 28, 1))\n",
    "xval = xval.reshape((5000,28,28,1))\n",
    "\n",
    "xtrain = (xtrain - xtrain.mean()) / xtrain.std()\n",
    "xtest = (xtest - xtest.mean()) / xtest.std()\n",
    "xval = (xval - xval.mean()) / xval.std()"
   ]
  },
  {
   "cell_type": "markdown",
   "metadata": {},
   "source": [
    "# Model Architecture\n",
    "\n",
    "The previous model was IN-CN-MP-FC. This first one will just add another convolutional layer."
   ]
  },
  {
   "cell_type": "markdown",
   "metadata": {},
   "source": [
    "***Model selection:*** In the previous couple of iterations, I tuned parameters of the model and evaluated at the end of each training run based on the validation data. Instead, I'm now going to evaluate models based on the testing data and do a final evaluation on the validation data. It may be difficult to achieve similar accuracies on the validation set since I probably overfit to that last time."
   ]
  },
  {
   "cell_type": "code",
   "execution_count": 3,
   "metadata": {},
   "outputs": [
    {
     "name": "stderr",
     "output_type": "stream",
     "text": [
      "Using TensorFlow backend.\n"
     ]
    }
   ],
   "source": [
    "import tensorflow as tf\n",
    "from keras.backend.tensorflow_backend import set_session\n",
    "\n",
    "config = tf.ConfigProto()\n",
    "# config = tf.ConfigProto(device_count = {'GPU': 0})\n",
    "sess = tf.Session(config=config)\n",
    "# config.gpu_options.per_process_gpu_memory_fraction = 0.7\n",
    "config.gpu_options.allow_growth = True\n",
    "set_session(tf.Session(config=config))"
   ]
  },
  {
   "cell_type": "code",
   "execution_count": 4,
   "metadata": {},
   "outputs": [],
   "source": [
    "from keras.models import Sequential\n",
    "from keras.layers import Conv2D, MaxPool2D, Dense, Flatten, MaxPooling2D, AveragePooling2D\n",
    "from keras.regularizers import l2\n",
    "from keras.optimizers import SGD"
   ]
  },
  {
   "cell_type": "markdown",
   "metadata": {},
   "source": [
    "Based on a successful model [here](http://yann.lecun.com/exdb/mnist/), I tried a 1-20-40-60-80-100-120-120-10 model and it froze. I also tried a large/deep network and it didn't seem to do very well, so I'm going back to the 20-40-250 model and trying AveragePooling2D instead of MaxPooling2D."
   ]
  },
  {
   "cell_type": "code",
   "execution_count": 5,
   "metadata": {},
   "outputs": [
    {
     "name": "stdout",
     "output_type": "stream",
     "text": [
      "Train on 55000 samples, validate on 10000 samples\n",
      "Epoch 1/30\n",
      "55000/55000 [==============================] - 11s 193us/step - loss: 0.5191 - acc: 0.8398 - val_loss: 0.1283 - val_acc: 0.9580\n",
      "Epoch 2/30\n",
      "55000/55000 [==============================] - 8s 147us/step - loss: 0.1168 - acc: 0.9640 - val_loss: 0.0705 - val_acc: 0.9758\n",
      "Epoch 3/30\n",
      "55000/55000 [==============================] - 8s 147us/step - loss: 0.0791 - acc: 0.9751 - val_loss: 0.0664 - val_acc: 0.9779\n",
      "Epoch 4/30\n",
      "55000/55000 [==============================] - 8s 146us/step - loss: 0.0623 - acc: 0.9797 - val_loss: 0.0462 - val_acc: 0.9839\n",
      "Epoch 5/30\n",
      "55000/55000 [==============================] - 8s 146us/step - loss: 0.0504 - acc: 0.9839 - val_loss: 0.0406 - val_acc: 0.9864\n",
      "Epoch 6/30\n",
      "55000/55000 [==============================] - 8s 146us/step - loss: 0.0439 - acc: 0.9860 - val_loss: 0.0386 - val_acc: 0.9867\n",
      "Epoch 7/30\n",
      "55000/55000 [==============================] - 8s 146us/step - loss: 0.0369 - acc: 0.9887 - val_loss: 0.0336 - val_acc: 0.9891\n",
      "Epoch 8/30\n",
      "55000/55000 [==============================] - 8s 148us/step - loss: 0.0330 - acc: 0.9895 - val_loss: 0.0343 - val_acc: 0.9873\n",
      "Epoch 9/30\n",
      "55000/55000 [==============================] - 8s 147us/step - loss: 0.0309 - acc: 0.9903 - val_loss: 0.0319 - val_acc: 0.9883\n",
      "Epoch 10/30\n",
      "55000/55000 [==============================] - 8s 150us/step - loss: 0.0281 - acc: 0.9907 - val_loss: 0.0293 - val_acc: 0.9910\n",
      "Epoch 11/30\n",
      "55000/55000 [==============================] - 8s 147us/step - loss: 0.0249 - acc: 0.9914 - val_loss: 0.0269 - val_acc: 0.9909\n",
      "Epoch 12/30\n",
      "55000/55000 [==============================] - 8s 148us/step - loss: 0.0240 - acc: 0.9924 - val_loss: 0.0262 - val_acc: 0.9911\n",
      "Epoch 13/30\n",
      "55000/55000 [==============================] - 8s 148us/step - loss: 0.0217 - acc: 0.9928 - val_loss: 0.0392 - val_acc: 0.9867\n",
      "Epoch 14/30\n",
      "55000/55000 [==============================] - 8s 148us/step - loss: 0.0205 - acc: 0.9931 - val_loss: 0.0353 - val_acc: 0.9879\n",
      "Epoch 15/30\n",
      "55000/55000 [==============================] - 8s 148us/step - loss: 0.0174 - acc: 0.9940 - val_loss: 0.0250 - val_acc: 0.9914\n",
      "Epoch 16/30\n",
      "55000/55000 [==============================] - 8s 149us/step - loss: 0.0162 - acc: 0.9948 - val_loss: 0.0310 - val_acc: 0.9896\n",
      "Epoch 17/30\n",
      "55000/55000 [==============================] - 8s 149us/step - loss: 0.0165 - acc: 0.9947 - val_loss: 0.0214 - val_acc: 0.9919\n",
      "Epoch 18/30\n",
      "55000/55000 [==============================] - 8s 148us/step - loss: 0.0137 - acc: 0.9955 - val_loss: 0.0353 - val_acc: 0.9891\n",
      "Epoch 19/30\n",
      "55000/55000 [==============================] - 8s 150us/step - loss: 0.0134 - acc: 0.9956 - val_loss: 0.0272 - val_acc: 0.9921\n",
      "Epoch 20/30\n",
      "55000/55000 [==============================] - 8s 148us/step - loss: 0.0114 - acc: 0.9964 - val_loss: 0.0349 - val_acc: 0.9885\n",
      "Epoch 21/30\n",
      "55000/55000 [==============================] - 8s 150us/step - loss: 0.0111 - acc: 0.9964 - val_loss: 0.0257 - val_acc: 0.9911\n",
      "Epoch 22/30\n",
      "55000/55000 [==============================] - 8s 146us/step - loss: 0.0125 - acc: 0.9962 - val_loss: 0.0248 - val_acc: 0.9918\n",
      "Epoch 23/30\n",
      "55000/55000 [==============================] - 8s 149us/step - loss: 0.0093 - acc: 0.9970 - val_loss: 0.0301 - val_acc: 0.9911\n",
      "Epoch 24/30\n",
      "55000/55000 [==============================] - 8s 145us/step - loss: 0.0094 - acc: 0.9971 - val_loss: 0.0252 - val_acc: 0.9912\n",
      "Epoch 25/30\n",
      "55000/55000 [==============================] - 8s 148us/step - loss: 0.0080 - acc: 0.9977 - val_loss: 0.0271 - val_acc: 0.9912\n",
      "Epoch 26/30\n",
      "55000/55000 [==============================] - 8s 148us/step - loss: 0.0086 - acc: 0.9973 - val_loss: 0.0269 - val_acc: 0.9914\n",
      "Epoch 27/30\n",
      "55000/55000 [==============================] - 8s 153us/step - loss: 0.0073 - acc: 0.9976 - val_loss: 0.0272 - val_acc: 0.9914\n",
      "Epoch 28/30\n",
      "55000/55000 [==============================] - 8s 153us/step - loss: 0.0092 - acc: 0.9969 - val_loss: 0.0315 - val_acc: 0.9899\n",
      "Epoch 29/30\n",
      "55000/55000 [==============================] - 8s 149us/step - loss: 0.0090 - acc: 0.9972 - val_loss: 0.0268 - val_acc: 0.9919\n",
      "Epoch 30/30\n",
      "55000/55000 [==============================] - 8s 148us/step - loss: 0.0079 - acc: 0.9975 - val_loss: 0.0288 - val_acc: 0.9916\n"
     ]
    },
    {
     "data": {
      "image/png": "[encoded data removed]",
      "text/plain": [
       "<Figure size 432x288 with 1 Axes>"
      ]
     },
     "metadata": {},
     "output_type": "display_data"
    }
   ],
   "source": [
    "import pandas as pd\n",
    "import matplotlib.pyplot as plt\n",
    "%matplotlib inline\n",
    "\n",
    "def plot_keras_history(h=None):\n",
    "    e = h.epoch\n",
    "    h = h.history\n",
    "    f, ax = plt.subplots()\n",
    "    ax.plot(e, h['acc'], label='Training accuracy')\n",
    "    ax.plot(e, h['val_acc'], label='Testing accuracy')\n",
    "    ax.legend()\n",
    "    plt.tight_layout()\n",
    "    return ax\n",
    "\n",
    "convolutional = Sequential()\n",
    "\n",
    "convolutional.add(\n",
    "    Conv2D(\n",
    "        input_shape=(28,28,1),\n",
    "        filters=20,\n",
    "        kernel_size=(14,14),\n",
    "        strides=(1,1),\n",
    "        padding='same',\n",
    "        activation='relu',\n",
    "        use_bias=True,\n",
    "        # TODO: Regularizers\n",
    "    )\n",
    ")\n",
    "\n",
    "convolutional.add(AveragePooling2D())\n",
    "\n",
    "convolutional.add(\n",
    "    Conv2D(\n",
    "        filters=40,\n",
    "        kernel_size=(7,7),\n",
    "        strides=(1,1),\n",
    "        padding='same',\n",
    "        activation='relu',\n",
    "        use_bias=True,\n",
    "        # TODO: Regularizers\n",
    "    )\n",
    ")\n",
    "\n",
    "convolutional.add(AveragePooling2D())\n",
    "\n",
    "convolutional.add(\n",
    "    Conv2D(\n",
    "        filters=150,\n",
    "        kernel_size=(4,4),\n",
    "        strides=(1,1),\n",
    "        padding='same',\n",
    "        activation='relu',\n",
    "        use_bias=True,\n",
    "        # TODO: Regularizers\n",
    "    )\n",
    ")\n",
    "\n",
    "convolutional.add(AveragePooling2D())\n",
    "\n",
    "convolutional.add(Flatten())\n",
    "\n",
    "convolutional.add(\n",
    "    Dense(10,\n",
    "          activation='softmax',\n",
    "#           kernel_regularizer=l2(0.00000000001),\n",
    "#           activity_regularizer=l2(0.0000000001)\n",
    "         )\n",
    ")\n",
    "\n",
    "# optimizer = SGD(lr=0.1, momentum=0.0, decay=0.0, nesterov=False)\n",
    "\n",
    "convolutional.compile(\n",
    "    optimizer='adam', # (SGD | Adagrad) | Adadelta | (RMSprop | Adam | Adamax | Nadam)\n",
    "    loss='categorical_crossentropy',\n",
    "    metrics=['accuracy']\n",
    ")\n",
    "\n",
    "h = convolutional.fit(xtrain, ytrain, shuffle=True, epochs=30, batch_size=500, validation_data=(xtest,ytest))\n",
    "\n",
    "ax = plot_keras_history(h)\n",
    "avg = pd.Series(h.history['val_acc']).rolling(5).mean().reindex(h.epoch)\n",
    "ax.plot(avg, label='5-Epoch avg')\n",
    "ax.legend()\n",
    "ax.set_ylim([0.98,1.001])\n",
    "ax.axhline(0.99)\n",
    "plt.tight_layout()"
   ]
  },
  {
   "cell_type": "code",
   "execution_count": 6,
   "metadata": {},
   "outputs": [
    {
     "name": "stdout",
     "output_type": "stream",
     "text": [
      "5000/5000 [==============================] - 1s 167us/step\n"
     ]
    },
    {
     "data": {
      "text/plain": [
       "[0.028337481941964143, 0.9932]"
      ]
     },
     "execution_count": 6,
     "metadata": {},
     "output_type": "execute_result"
    }
   ],
   "source": [
    "convolutional.evaluate(xval, yval)"
   ]
  }
 ],
 "metadata": {
  "kernelspec": {
   "display_name": "Python 3",
   "language": "python",
   "name": "python3"
  },
  "language_info": {
   "codemirror_mode": {
    "name": "ipython",
    "version": 3
   },
   "file_extension": ".py",
   "mimetype": "text/x-python",
   "name": "python",
   "nbconvert_exporter": "python",
   "pygments_lexer": "ipython3",
   "version": "3.6.4"
  }
 },
 "nbformat": 4,
 "nbformat_minor": 2
}
